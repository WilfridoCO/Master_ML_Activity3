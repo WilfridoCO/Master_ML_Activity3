{
 "cells": [
  {
   "cell_type": "code",
   "execution_count": 1,
   "id": "8fb4abf8",
   "metadata": {},
   "outputs": [],
   "source": [
    "import pandas as pd\n",
    "import numpy as np\n",
    "import matplotlib.pyplot as plt\n",
    "%matplotlib inline\n",
    "df = pd.DataFrame({\n",
    "    'x1': [12,20,28,18,29,33,24,45,45,52,51,52,55,53,55,61,64,69,72],\n",
    "    'x2': [39,36,30,52,54,46,55,59,63,70,66,63,58,23,14,8,19,7,24]\n",
    "})"
   ]
  },
  {
   "cell_type": "code",
   "execution_count": 2,
   "id": "0588ed2e",
   "metadata": {},
   "outputs": [
    {
     "data": {
      "text/plain": [
       "pandas.core.frame.DataFrame"
      ]
     },
     "execution_count": 2,
     "metadata": {},
     "output_type": "execute_result"
    }
   ],
   "source": [
    "type(df)"
   ]
  },
  {
   "cell_type": "code",
   "execution_count": 3,
   "id": "d0acf022",
   "metadata": {},
   "outputs": [],
   "source": [
    "np.random.seed(200)\n",
    "#Número de centroides k = 3\n",
    "k = 3\n",
    "#Inicializamos los centroides a valores aleatorios en el espacio de datos\n",
    "centroids = {\n",
    "    i+1: [np.random.randint(0,80), np.random.randint(0,80)] for i in range(k)\n",
    "}"
   ]
  },
  {
   "cell_type": "code",
   "execution_count": 4,
   "id": "31b2d31d",
   "metadata": {},
   "outputs": [
    {
     "data": {
      "text/plain": [
       "{1: [26, 16], 2: [68, 42], 3: [55, 76]}"
      ]
     },
     "execution_count": 4,
     "metadata": {},
     "output_type": "execute_result"
    }
   ],
   "source": [
    "centroids"
   ]
  },
  {
   "cell_type": "code",
   "execution_count": 5,
   "id": "7333b9bb",
   "metadata": {},
   "outputs": [
    {
     "data": {
      "text/plain": [
       "dict"
      ]
     },
     "execution_count": 5,
     "metadata": {},
     "output_type": "execute_result"
    }
   ],
   "source": [
    "type(centroids)"
   ]
  },
  {
   "cell_type": "code",
   "execution_count": 6,
   "id": "b7f223c9",
   "metadata": {},
   "outputs": [
    {
     "data": {
      "text/plain": [
       "<function matplotlib.pyplot.show(close=None, block=None)>"
      ]
     },
     "execution_count": 6,
     "metadata": {},
     "output_type": "execute_result"
    },
    {
     "data": {
      "image/png": "[encoded data removed]",
      "text/plain": [
       "<Figure size 360x360 with 1 Axes>"
      ]
     },
     "metadata": {
      "needs_background": "light"
     },
     "output_type": "display_data"
    }
   ],
   "source": [
    "fig = plt.figure(figsize = (5,5))\n",
    "plt.scatter(df['x1'], df['x2'], color='k')\n",
    "colmap = {1: 'r', 2: 'g', 3: 'b'}\n",
    "for i in centroids.keys():\n",
    "    plt.scatter(*centroids[i], color=colmap[i])\n",
    "    \n",
    "plt.title(u'los k centroides están inicializados')\n",
    "plt.xlim(0,80)\n",
    "plt.ylim(0,80)\n",
    "plt.show"
   ]
  },
  {
   "cell_type": "code",
   "execution_count": 7,
   "id": "2ad10c15",
   "metadata": {},
   "outputs": [],
   "source": [
    "def asignacion(df, centroids):\n",
    "    for i in centroids.keys():\n",
    "        # sqrt((x1-c1)^2 - (x2-c2)^2)\n",
    "        df['distance_from_{}'.format(i)] = (\n",
    "            np.sqrt(\n",
    "                (df['x1'] - centroids[i][0]) ** 2\n",
    "                + (df['x2'] - centroids[i][1]) ** 2\n",
    "            )\n",
    "        )\n",
    "    centroid_distance_cols = ['distance_from_{}'.format(i) for i in centroids.keys()]\n",
    "    df['closest'] = df.loc[:, centroid_distance_cols].idxmin(axis=1)\n",
    "    df['closest'] = df['closest'].map(lambda x: int(x.lstrip('distance_from_')))\n",
    "    df['color'] = df['closest'].map(lambda x: colmap[x])\n",
    "    return df\n"
   ]
  },
  {
   "cell_type": "code",
   "execution_count": 8,
   "id": "490120d5",
   "metadata": {},
   "outputs": [],
   "source": [
    "df = asignacion(df, centroids)"
   ]
  },
  {
   "cell_type": "code",
   "execution_count": 9,
   "id": "6ba8dccb",
   "metadata": {},
   "outputs": [
    {
     "data": {
      "text/html": [
       "<div>\n",
       "<style scoped>\n",
       "    .dataframe tbody tr th:only-of-type {\n",
       "        vertical-align: middle;\n",
       "    }\n",
       "\n",
       "    .dataframe tbody tr th {\n",
       "        vertical-align: top;\n",
       "    }\n",
       "\n",
       "    .dataframe thead th {\n",
       "        text-align: right;\n",
       "    }\n",
       "</style>\n",
       "<table border=\"1\" class=\"dataframe\">\n",
       "  <thead>\n",
       "    <tr style=\"text-align: right;\">\n",
       "      <th></th>\n",
       "      <th>x1</th>\n",
       "      <th>x2</th>\n",
       "      <th>distance_from_1</th>\n",
       "      <th>distance_from_2</th>\n",
       "      <th>distance_from_3</th>\n",
       "      <th>closest</th>\n",
       "      <th>color</th>\n",
       "    </tr>\n",
       "  </thead>\n",
       "  <tbody>\n",
       "    <tr>\n",
       "      <th>0</th>\n",
       "      <td>12</td>\n",
       "      <td>39</td>\n",
       "      <td>26.925824</td>\n",
       "      <td>56.080300</td>\n",
       "      <td>56.727418</td>\n",
       "      <td>1</td>\n",
       "      <td>r</td>\n",
       "    </tr>\n",
       "    <tr>\n",
       "      <th>1</th>\n",
       "      <td>20</td>\n",
       "      <td>36</td>\n",
       "      <td>20.880613</td>\n",
       "      <td>48.373546</td>\n",
       "      <td>53.150729</td>\n",
       "      <td>1</td>\n",
       "      <td>r</td>\n",
       "    </tr>\n",
       "    <tr>\n",
       "      <th>2</th>\n",
       "      <td>28</td>\n",
       "      <td>30</td>\n",
       "      <td>14.142136</td>\n",
       "      <td>41.761226</td>\n",
       "      <td>53.338541</td>\n",
       "      <td>1</td>\n",
       "      <td>r</td>\n",
       "    </tr>\n",
       "    <tr>\n",
       "      <th>3</th>\n",
       "      <td>18</td>\n",
       "      <td>52</td>\n",
       "      <td>36.878178</td>\n",
       "      <td>50.990195</td>\n",
       "      <td>44.102154</td>\n",
       "      <td>1</td>\n",
       "      <td>r</td>\n",
       "    </tr>\n",
       "    <tr>\n",
       "      <th>4</th>\n",
       "      <td>29</td>\n",
       "      <td>54</td>\n",
       "      <td>38.118237</td>\n",
       "      <td>40.804412</td>\n",
       "      <td>34.058773</td>\n",
       "      <td>3</td>\n",
       "      <td>b</td>\n",
       "    </tr>\n",
       "    <tr>\n",
       "      <th>5</th>\n",
       "      <td>33</td>\n",
       "      <td>46</td>\n",
       "      <td>30.805844</td>\n",
       "      <td>35.227830</td>\n",
       "      <td>37.202150</td>\n",
       "      <td>1</td>\n",
       "      <td>r</td>\n",
       "    </tr>\n",
       "    <tr>\n",
       "      <th>6</th>\n",
       "      <td>24</td>\n",
       "      <td>55</td>\n",
       "      <td>39.051248</td>\n",
       "      <td>45.880279</td>\n",
       "      <td>37.443290</td>\n",
       "      <td>3</td>\n",
       "      <td>b</td>\n",
       "    </tr>\n",
       "    <tr>\n",
       "      <th>7</th>\n",
       "      <td>45</td>\n",
       "      <td>59</td>\n",
       "      <td>47.010637</td>\n",
       "      <td>28.600699</td>\n",
       "      <td>19.723083</td>\n",
       "      <td>3</td>\n",
       "      <td>b</td>\n",
       "    </tr>\n",
       "    <tr>\n",
       "      <th>8</th>\n",
       "      <td>45</td>\n",
       "      <td>63</td>\n",
       "      <td>50.695167</td>\n",
       "      <td>31.144823</td>\n",
       "      <td>16.401219</td>\n",
       "      <td>3</td>\n",
       "      <td>b</td>\n",
       "    </tr>\n",
       "    <tr>\n",
       "      <th>9</th>\n",
       "      <td>52</td>\n",
       "      <td>70</td>\n",
       "      <td>59.933296</td>\n",
       "      <td>32.249031</td>\n",
       "      <td>6.708204</td>\n",
       "      <td>3</td>\n",
       "      <td>b</td>\n",
       "    </tr>\n",
       "    <tr>\n",
       "      <th>10</th>\n",
       "      <td>51</td>\n",
       "      <td>66</td>\n",
       "      <td>55.901699</td>\n",
       "      <td>29.410882</td>\n",
       "      <td>10.770330</td>\n",
       "      <td>3</td>\n",
       "      <td>b</td>\n",
       "    </tr>\n",
       "    <tr>\n",
       "      <th>11</th>\n",
       "      <td>52</td>\n",
       "      <td>63</td>\n",
       "      <td>53.712196</td>\n",
       "      <td>26.400758</td>\n",
       "      <td>13.341664</td>\n",
       "      <td>3</td>\n",
       "      <td>b</td>\n",
       "    </tr>\n",
       "    <tr>\n",
       "      <th>12</th>\n",
       "      <td>55</td>\n",
       "      <td>58</td>\n",
       "      <td>51.039201</td>\n",
       "      <td>20.615528</td>\n",
       "      <td>18.000000</td>\n",
       "      <td>3</td>\n",
       "      <td>b</td>\n",
       "    </tr>\n",
       "    <tr>\n",
       "      <th>13</th>\n",
       "      <td>53</td>\n",
       "      <td>23</td>\n",
       "      <td>27.892651</td>\n",
       "      <td>24.207437</td>\n",
       "      <td>53.037722</td>\n",
       "      <td>2</td>\n",
       "      <td>g</td>\n",
       "    </tr>\n",
       "    <tr>\n",
       "      <th>14</th>\n",
       "      <td>55</td>\n",
       "      <td>14</td>\n",
       "      <td>29.068884</td>\n",
       "      <td>30.870698</td>\n",
       "      <td>62.000000</td>\n",
       "      <td>1</td>\n",
       "      <td>r</td>\n",
       "    </tr>\n",
       "    <tr>\n",
       "      <th>15</th>\n",
       "      <td>61</td>\n",
       "      <td>8</td>\n",
       "      <td>35.902646</td>\n",
       "      <td>34.713110</td>\n",
       "      <td>68.264193</td>\n",
       "      <td>2</td>\n",
       "      <td>g</td>\n",
       "    </tr>\n",
       "    <tr>\n",
       "      <th>16</th>\n",
       "      <td>64</td>\n",
       "      <td>19</td>\n",
       "      <td>38.118237</td>\n",
       "      <td>23.345235</td>\n",
       "      <td>57.706152</td>\n",
       "      <td>2</td>\n",
       "      <td>g</td>\n",
       "    </tr>\n",
       "    <tr>\n",
       "      <th>17</th>\n",
       "      <td>69</td>\n",
       "      <td>7</td>\n",
       "      <td>43.931765</td>\n",
       "      <td>35.014283</td>\n",
       "      <td>70.405966</td>\n",
       "      <td>2</td>\n",
       "      <td>g</td>\n",
       "    </tr>\n",
       "    <tr>\n",
       "      <th>18</th>\n",
       "      <td>72</td>\n",
       "      <td>24</td>\n",
       "      <td>46.690470</td>\n",
       "      <td>18.439089</td>\n",
       "      <td>54.708317</td>\n",
       "      <td>2</td>\n",
       "      <td>g</td>\n",
       "    </tr>\n",
       "  </tbody>\n",
       "</table>\n",
       "</div>"
      ],
      "text/plain": [
       "    x1  x2  distance_from_1  distance_from_2  distance_from_3  closest color\n",
       "0   12  39        26.925824        56.080300        56.727418        1     r\n",
       "1   20  36        20.880613        48.373546        53.150729        1     r\n",
       "2   28  30        14.142136        41.761226        53.338541        1     r\n",
       "3   18  52        36.878178        50.990195        44.102154        1     r\n",
       "4   29  54        38.118237        40.804412        34.058773        3     b\n",
       "5   33  46        30.805844        35.227830        37.202150        1     r\n",
       "6   24  55        39.051248        45.880279        37.443290        3     b\n",
       "7   45  59        47.010637        28.600699        19.723083        3     b\n",
       "8   45  63        50.695167        31.144823        16.401219        3     b\n",
       "9   52  70        59.933296        32.249031         6.708204        3     b\n",
       "10  51  66        55.901699        29.410882        10.770330        3     b\n",
       "11  52  63        53.712196        26.400758        13.341664        3     b\n",
       "12  55  58        51.039201        20.615528        18.000000        3     b\n",
       "13  53  23        27.892651        24.207437        53.037722        2     g\n",
       "14  55  14        29.068884        30.870698        62.000000        1     r\n",
       "15  61   8        35.902646        34.713110        68.264193        2     g\n",
       "16  64  19        38.118237        23.345235        57.706152        2     g\n",
       "17  69   7        43.931765        35.014283        70.405966        2     g\n",
       "18  72  24        46.690470        18.439089        54.708317        2     g"
      ]
     },
     "execution_count": 9,
     "metadata": {},
     "output_type": "execute_result"
    }
   ],
   "source": [
    "df"
   ]
  },
  {
   "cell_type": "code",
   "execution_count": 10,
   "id": "1e329d58",
   "metadata": {},
   "outputs": [
    {
     "data": {
      "image/png": "[encoded data removed]",
      "text/plain": [
       "<Figure size 360x360 with 1 Axes>"
      ]
     },
     "metadata": {
      "needs_background": "light"
     },
     "output_type": "display_data"
    }
   ],
   "source": [
    "fig = plt.figure(figsize=(5,5))\n",
    "plt.scatter(df['x1'], df['x2'], color=df['color'], alpha=0.5, edgecolor = 'k')\n",
    "for i in centroids.keys():\n",
    "    plt.scatter(*centroids[i], color=colmap[i])\n",
    "plt.title(u'Asignación de los datos al clúster del centroide más cercano')\n",
    "plt.xlim(0,80)\n",
    "plt.ylim(0,80)\n",
    "plt.show()"
   ]
  },
  {
   "cell_type": "code",
   "execution_count": 11,
   "id": "de8a09ea",
   "metadata": {},
   "outputs": [],
   "source": [
    "import copy \n",
    "old_centroids = copy.deepcopy(centroids)\n",
    "def update(k):\n",
    "    for i in centroids.keys():\n",
    "        centroids[i][0] = np.mean(df[df['closest'] == i] ['x1'])\n",
    "        centroids[i][1] = np.mean(df[df['closest'] == i] ['x2'])\n",
    "    return k"
   ]
  },
  {
   "cell_type": "code",
   "execution_count": 12,
   "id": "a279a2f0",
   "metadata": {},
   "outputs": [],
   "source": [
    "centroids = update(centroids)"
   ]
  },
  {
   "cell_type": "code",
   "execution_count": 13,
   "id": "82d4e507",
   "metadata": {},
   "outputs": [
    {
     "data": {
      "text/plain": [
       "{1: [27.666666666666668, 36.166666666666664],\n",
       " 2: [63.8, 16.2],\n",
       " 3: [44.125, 61.0]}"
      ]
     },
     "execution_count": 13,
     "metadata": {},
     "output_type": "execute_result"
    }
   ],
   "source": [
    "centroids"
   ]
  },
  {
   "cell_type": "code",
   "execution_count": 14,
   "id": "3c46daf6",
   "metadata": {},
   "outputs": [
    {
     "data": {
      "image/png": "[encoded data removed]",
      "text/plain": [
       "<Figure size 360x360 with 1 Axes>"
      ]
     },
     "metadata": {
      "needs_background": "light"
     },
     "output_type": "display_data"
    }
   ],
   "source": [
    "fig = plt.figure(figsize=(5,5))\n",
    "ax = plt.axes()\n",
    "plt.scatter(df['x1'],df['x2'], color=df['color'],alpha=0.5,edgecolor='k')\n",
    "for i in centroids.keys():\n",
    "    plt.scatter(*centroids[i], color=colmap[i])\n",
    "plt.title(u'Actualización de los centroides como la media de los datos del cluster')\n",
    "plt.xlim(0,80)\n",
    "plt.ylim(0,80)\n",
    "for i in old_centroids.keys():\n",
    "    old_x = old_centroids[i][0]\n",
    "    old_y = old_centroids[i][1]\n",
    "    dx = (centroids[i][0] - old_centroids[i][0]) * 0.75\n",
    "    dy = (centroids[i][1] - old_centroids[i][1]) * 0.75\n",
    "    ax.arrow(old_x, old_y, dx, dy, head_width=2, head_length=3, fc=colmap[i], ec=colmap[i])\n",
    "plt.show()"
   ]
  },
  {
   "cell_type": "code",
   "execution_count": 15,
   "id": "e1005be4",
   "metadata": {},
   "outputs": [],
   "source": [
    "df = asignacion(df, centroids)"
   ]
  },
  {
   "cell_type": "code",
   "execution_count": 16,
   "id": "fc23ab16",
   "metadata": {},
   "outputs": [
    {
     "data": {
      "text/html": [
       "<div>\n",
       "<style scoped>\n",
       "    .dataframe tbody tr th:only-of-type {\n",
       "        vertical-align: middle;\n",
       "    }\n",
       "\n",
       "    .dataframe tbody tr th {\n",
       "        vertical-align: top;\n",
       "    }\n",
       "\n",
       "    .dataframe thead th {\n",
       "        text-align: right;\n",
       "    }\n",
       "</style>\n",
       "<table border=\"1\" class=\"dataframe\">\n",
       "  <thead>\n",
       "    <tr style=\"text-align: right;\">\n",
       "      <th></th>\n",
       "      <th>x1</th>\n",
       "      <th>x2</th>\n",
       "      <th>distance_from_1</th>\n",
       "      <th>distance_from_2</th>\n",
       "      <th>distance_from_3</th>\n",
       "      <th>closest</th>\n",
       "      <th>color</th>\n",
       "    </tr>\n",
       "  </thead>\n",
       "  <tbody>\n",
       "    <tr>\n",
       "      <th>0</th>\n",
       "      <td>12</td>\n",
       "      <td>39</td>\n",
       "      <td>15.920811</td>\n",
       "      <td>56.595760</td>\n",
       "      <td>38.936045</td>\n",
       "      <td>1</td>\n",
       "      <td>r</td>\n",
       "    </tr>\n",
       "    <tr>\n",
       "      <th>1</th>\n",
       "      <td>20</td>\n",
       "      <td>36</td>\n",
       "      <td>7.668478</td>\n",
       "      <td>48.067453</td>\n",
       "      <td>34.742130</td>\n",
       "      <td>1</td>\n",
       "      <td>r</td>\n",
       "    </tr>\n",
       "    <tr>\n",
       "      <th>2</th>\n",
       "      <td>28</td>\n",
       "      <td>30</td>\n",
       "      <td>6.175669</td>\n",
       "      <td>38.367695</td>\n",
       "      <td>34.943034</td>\n",
       "      <td>1</td>\n",
       "      <td>r</td>\n",
       "    </tr>\n",
       "    <tr>\n",
       "      <th>3</th>\n",
       "      <td>18</td>\n",
       "      <td>52</td>\n",
       "      <td>18.550981</td>\n",
       "      <td>58.131575</td>\n",
       "      <td>27.631786</td>\n",
       "      <td>1</td>\n",
       "      <td>r</td>\n",
       "    </tr>\n",
       "    <tr>\n",
       "      <th>4</th>\n",
       "      <td>29</td>\n",
       "      <td>54</td>\n",
       "      <td>17.883108</td>\n",
       "      <td>51.379763</td>\n",
       "      <td>16.666302</td>\n",
       "      <td>3</td>\n",
       "      <td>b</td>\n",
       "    </tr>\n",
       "    <tr>\n",
       "      <th>5</th>\n",
       "      <td>33</td>\n",
       "      <td>46</td>\n",
       "      <td>11.186549</td>\n",
       "      <td>42.856505</td>\n",
       "      <td>18.675268</td>\n",
       "      <td>1</td>\n",
       "      <td>r</td>\n",
       "    </tr>\n",
       "    <tr>\n",
       "      <th>6</th>\n",
       "      <td>24</td>\n",
       "      <td>55</td>\n",
       "      <td>19.186946</td>\n",
       "      <td>55.583091</td>\n",
       "      <td>21.000372</td>\n",
       "      <td>1</td>\n",
       "      <td>r</td>\n",
       "    </tr>\n",
       "    <tr>\n",
       "      <th>7</th>\n",
       "      <td>45</td>\n",
       "      <td>59</td>\n",
       "      <td>28.667151</td>\n",
       "      <td>46.746979</td>\n",
       "      <td>2.183031</td>\n",
       "      <td>3</td>\n",
       "      <td>b</td>\n",
       "    </tr>\n",
       "    <tr>\n",
       "      <th>8</th>\n",
       "      <td>45</td>\n",
       "      <td>63</td>\n",
       "      <td>31.944831</td>\n",
       "      <td>50.434909</td>\n",
       "      <td>2.183031</td>\n",
       "      <td>3</td>\n",
       "      <td>b</td>\n",
       "    </tr>\n",
       "    <tr>\n",
       "      <th>9</th>\n",
       "      <td>52</td>\n",
       "      <td>70</td>\n",
       "      <td>41.674999</td>\n",
       "      <td>55.078853</td>\n",
       "      <td>11.958914</td>\n",
       "      <td>3</td>\n",
       "      <td>b</td>\n",
       "    </tr>\n",
       "    <tr>\n",
       "      <th>10</th>\n",
       "      <td>51</td>\n",
       "      <td>66</td>\n",
       "      <td>37.874427</td>\n",
       "      <td>51.418674</td>\n",
       "      <td>8.500919</td>\n",
       "      <td>3</td>\n",
       "      <td>b</td>\n",
       "    </tr>\n",
       "    <tr>\n",
       "      <th>11</th>\n",
       "      <td>52</td>\n",
       "      <td>63</td>\n",
       "      <td>36.223458</td>\n",
       "      <td>48.264687</td>\n",
       "      <td>8.125000</td>\n",
       "      <td>3</td>\n",
       "      <td>b</td>\n",
       "    </tr>\n",
       "    <tr>\n",
       "      <th>12</th>\n",
       "      <td>55</td>\n",
       "      <td>58</td>\n",
       "      <td>34.982932</td>\n",
       "      <td>42.716273</td>\n",
       "      <td>11.281207</td>\n",
       "      <td>3</td>\n",
       "      <td>b</td>\n",
       "    </tr>\n",
       "    <tr>\n",
       "      <th>13</th>\n",
       "      <td>53</td>\n",
       "      <td>23</td>\n",
       "      <td>28.550637</td>\n",
       "      <td>12.762445</td>\n",
       "      <td>39.022630</td>\n",
       "      <td>2</td>\n",
       "      <td>g</td>\n",
       "    </tr>\n",
       "    <tr>\n",
       "      <th>14</th>\n",
       "      <td>55</td>\n",
       "      <td>14</td>\n",
       "      <td>35.191934</td>\n",
       "      <td>9.070832</td>\n",
       "      <td>48.241742</td>\n",
       "      <td>2</td>\n",
       "      <td>g</td>\n",
       "    </tr>\n",
       "    <tr>\n",
       "      <th>15</th>\n",
       "      <td>61</td>\n",
       "      <td>8</td>\n",
       "      <td>43.640259</td>\n",
       "      <td>8.664872</td>\n",
       "      <td>55.621629</td>\n",
       "      <td>2</td>\n",
       "      <td>g</td>\n",
       "    </tr>\n",
       "    <tr>\n",
       "      <th>16</th>\n",
       "      <td>64</td>\n",
       "      <td>19</td>\n",
       "      <td>40.184643</td>\n",
       "      <td>2.807134</td>\n",
       "      <td>46.465209</td>\n",
       "      <td>2</td>\n",
       "      <td>g</td>\n",
       "    </tr>\n",
       "    <tr>\n",
       "      <th>17</th>\n",
       "      <td>69</td>\n",
       "      <td>7</td>\n",
       "      <td>50.587932</td>\n",
       "      <td>10.567876</td>\n",
       "      <td>59.453895</td>\n",
       "      <td>2</td>\n",
       "      <td>g</td>\n",
       "    </tr>\n",
       "    <tr>\n",
       "      <th>18</th>\n",
       "      <td>72</td>\n",
       "      <td>24</td>\n",
       "      <td>45.972516</td>\n",
       "      <td>11.317243</td>\n",
       "      <td>46.325108</td>\n",
       "      <td>2</td>\n",
       "      <td>g</td>\n",
       "    </tr>\n",
       "  </tbody>\n",
       "</table>\n",
       "</div>"
      ],
      "text/plain": [
       "    x1  x2  distance_from_1  distance_from_2  distance_from_3  closest color\n",
       "0   12  39        15.920811        56.595760        38.936045        1     r\n",
       "1   20  36         7.668478        48.067453        34.742130        1     r\n",
       "2   28  30         6.175669        38.367695        34.943034        1     r\n",
       "3   18  52        18.550981        58.131575        27.631786        1     r\n",
       "4   29  54        17.883108        51.379763        16.666302        3     b\n",
       "5   33  46        11.186549        42.856505        18.675268        1     r\n",
       "6   24  55        19.186946        55.583091        21.000372        1     r\n",
       "7   45  59        28.667151        46.746979         2.183031        3     b\n",
       "8   45  63        31.944831        50.434909         2.183031        3     b\n",
       "9   52  70        41.674999        55.078853        11.958914        3     b\n",
       "10  51  66        37.874427        51.418674         8.500919        3     b\n",
       "11  52  63        36.223458        48.264687         8.125000        3     b\n",
       "12  55  58        34.982932        42.716273        11.281207        3     b\n",
       "13  53  23        28.550637        12.762445        39.022630        2     g\n",
       "14  55  14        35.191934         9.070832        48.241742        2     g\n",
       "15  61   8        43.640259         8.664872        55.621629        2     g\n",
       "16  64  19        40.184643         2.807134        46.465209        2     g\n",
       "17  69   7        50.587932        10.567876        59.453895        2     g\n",
       "18  72  24        45.972516        11.317243        46.325108        2     g"
      ]
     },
     "execution_count": 16,
     "metadata": {},
     "output_type": "execute_result"
    }
   ],
   "source": [
    "df"
   ]
  },
  {
   "cell_type": "code",
   "execution_count": 17,
   "id": "1dcaf1bc",
   "metadata": {},
   "outputs": [
    {
     "data": {
      "image/png": "[encoded data removed]",
      "text/plain": [
       "<Figure size 360x360 with 1 Axes>"
      ]
     },
     "metadata": {
      "needs_background": "light"
     },
     "output_type": "display_data"
    }
   ],
   "source": [
    "fig = plt.figure(figsize=(5,5))\n",
    "plt.scatter(df['x1'],df['x2'], color=df['color'],alpha=0.5,edgecolor='k')\n",
    "for i in centroids.keys():\n",
    "    plt.scatter(*centroids[i], color=colmap[i])\n",
    "plt.title(u'Repetición de la asignación de las observaciones al centroide más cercano')\n",
    "plt.xlim(0,80)\n",
    "plt.ylim(0,80)\n",
    "plt.show()"
   ]
  },
  {
   "cell_type": "code",
   "execution_count": 18,
   "id": "0480848f",
   "metadata": {},
   "outputs": [],
   "source": [
    "centroids = update(centroids)"
   ]
  },
  {
   "cell_type": "code",
   "execution_count": 19,
   "id": "4ea280fb",
   "metadata": {},
   "outputs": [
    {
     "data": {
      "text/plain": [
       "{1: [22.5, 43.0],\n",
       " 2: [62.333333333333336, 15.833333333333334],\n",
       " 3: [47.0, 61.857142857142854]}"
      ]
     },
     "execution_count": 19,
     "metadata": {},
     "output_type": "execute_result"
    }
   ],
   "source": [
    "centroids"
   ]
  },
  {
   "cell_type": "code",
   "execution_count": 20,
   "id": "c32a7356",
   "metadata": {},
   "outputs": [],
   "source": [
    "df = asignacion(df,centroids)"
   ]
  },
  {
   "cell_type": "code",
   "execution_count": 21,
   "id": "c5395fe8",
   "metadata": {},
   "outputs": [
    {
     "data": {
      "image/png": "[encoded data removed]",
      "text/plain": [
       "<Figure size 360x360 with 1 Axes>"
      ]
     },
     "metadata": {
      "needs_background": "light"
     },
     "output_type": "display_data"
    }
   ],
   "source": [
    "fig = plt.figure(figsize=(5,5))\n",
    "plt.scatter(df['x1'],df['x2'], color=df['color'],alpha=0.5,edgecolor='k')\n",
    "for i in centroids.keys():\n",
    "    plt.scatter(*centroids[i], color=colmap[i])\n",
    "plt.title(u'Repetición de la asignación de las observaciones al centroide más cercano')\n",
    "plt.xlim(0,80)\n",
    "plt.ylim(0,80)\n",
    "plt.show()"
   ]
  },
  {
   "cell_type": "code",
   "execution_count": 22,
   "id": "1a8bccbe",
   "metadata": {},
   "outputs": [],
   "source": [
    "X = df[['x1','x2']]"
   ]
  },
  {
   "cell_type": "code",
   "execution_count": 23,
   "id": "3b49fba1",
   "metadata": {},
   "outputs": [
    {
     "data": {
      "text/html": [
       "<div>\n",
       "<style scoped>\n",
       "    .dataframe tbody tr th:only-of-type {\n",
       "        vertical-align: middle;\n",
       "    }\n",
       "\n",
       "    .dataframe tbody tr th {\n",
       "        vertical-align: top;\n",
       "    }\n",
       "\n",
       "    .dataframe thead th {\n",
       "        text-align: right;\n",
       "    }\n",
       "</style>\n",
       "<table border=\"1\" class=\"dataframe\">\n",
       "  <thead>\n",
       "    <tr style=\"text-align: right;\">\n",
       "      <th></th>\n",
       "      <th>x1</th>\n",
       "      <th>x2</th>\n",
       "    </tr>\n",
       "  </thead>\n",
       "  <tbody>\n",
       "    <tr>\n",
       "      <th>0</th>\n",
       "      <td>12</td>\n",
       "      <td>39</td>\n",
       "    </tr>\n",
       "    <tr>\n",
       "      <th>1</th>\n",
       "      <td>20</td>\n",
       "      <td>36</td>\n",
       "    </tr>\n",
       "    <tr>\n",
       "      <th>2</th>\n",
       "      <td>28</td>\n",
       "      <td>30</td>\n",
       "    </tr>\n",
       "    <tr>\n",
       "      <th>3</th>\n",
       "      <td>18</td>\n",
       "      <td>52</td>\n",
       "    </tr>\n",
       "    <tr>\n",
       "      <th>4</th>\n",
       "      <td>29</td>\n",
       "      <td>54</td>\n",
       "    </tr>\n",
       "    <tr>\n",
       "      <th>5</th>\n",
       "      <td>33</td>\n",
       "      <td>46</td>\n",
       "    </tr>\n",
       "    <tr>\n",
       "      <th>6</th>\n",
       "      <td>24</td>\n",
       "      <td>55</td>\n",
       "    </tr>\n",
       "    <tr>\n",
       "      <th>7</th>\n",
       "      <td>45</td>\n",
       "      <td>59</td>\n",
       "    </tr>\n",
       "    <tr>\n",
       "      <th>8</th>\n",
       "      <td>45</td>\n",
       "      <td>63</td>\n",
       "    </tr>\n",
       "    <tr>\n",
       "      <th>9</th>\n",
       "      <td>52</td>\n",
       "      <td>70</td>\n",
       "    </tr>\n",
       "    <tr>\n",
       "      <th>10</th>\n",
       "      <td>51</td>\n",
       "      <td>66</td>\n",
       "    </tr>\n",
       "    <tr>\n",
       "      <th>11</th>\n",
       "      <td>52</td>\n",
       "      <td>63</td>\n",
       "    </tr>\n",
       "    <tr>\n",
       "      <th>12</th>\n",
       "      <td>55</td>\n",
       "      <td>58</td>\n",
       "    </tr>\n",
       "    <tr>\n",
       "      <th>13</th>\n",
       "      <td>53</td>\n",
       "      <td>23</td>\n",
       "    </tr>\n",
       "    <tr>\n",
       "      <th>14</th>\n",
       "      <td>55</td>\n",
       "      <td>14</td>\n",
       "    </tr>\n",
       "    <tr>\n",
       "      <th>15</th>\n",
       "      <td>61</td>\n",
       "      <td>8</td>\n",
       "    </tr>\n",
       "    <tr>\n",
       "      <th>16</th>\n",
       "      <td>64</td>\n",
       "      <td>19</td>\n",
       "    </tr>\n",
       "    <tr>\n",
       "      <th>17</th>\n",
       "      <td>69</td>\n",
       "      <td>7</td>\n",
       "    </tr>\n",
       "    <tr>\n",
       "      <th>18</th>\n",
       "      <td>72</td>\n",
       "      <td>24</td>\n",
       "    </tr>\n",
       "  </tbody>\n",
       "</table>\n",
       "</div>"
      ],
      "text/plain": [
       "    x1  x2\n",
       "0   12  39\n",
       "1   20  36\n",
       "2   28  30\n",
       "3   18  52\n",
       "4   29  54\n",
       "5   33  46\n",
       "6   24  55\n",
       "7   45  59\n",
       "8   45  63\n",
       "9   52  70\n",
       "10  51  66\n",
       "11  52  63\n",
       "12  55  58\n",
       "13  53  23\n",
       "14  55  14\n",
       "15  61   8\n",
       "16  64  19\n",
       "17  69   7\n",
       "18  72  24"
      ]
     },
     "execution_count": 23,
     "metadata": {},
     "output_type": "execute_result"
    }
   ],
   "source": [
    "X"
   ]
  },
  {
   "cell_type": "code",
   "execution_count": 24,
   "id": "20a4e372",
   "metadata": {},
   "outputs": [
    {
     "name": "stdout",
     "output_type": "stream",
     "text": [
      "Número de clusters  2 Silhouette Score: 0.572\n",
      "Número de clusters  3 Silhouette Score: 0.640\n",
      "Número de clusters  4 Silhouette Score: 0.599\n",
      "Número de clusters  5 Silhouette Score: 0.438\n",
      "Número de clusters  6 Silhouette Score: 0.495\n",
      "Número de clusters  7 Silhouette Score: 0.434\n",
      "Número de clusters  8 Silhouette Score: 0.374\n",
      "Número de clusters  9 Silhouette Score: 0.317\n",
      "Número de clusters  10 Silhouette Score: 0.228\n"
     ]
    }
   ],
   "source": [
    "from sklearn import datasets\n",
    "from sklearn.cluster import KMeans\n",
    "from sklearn.metrics import silhouette_score\n",
    "\n",
    "silhouette_coefficients = []\n",
    "for i in range(2,11):\n",
    "    km = KMeans(n_clusters = i, random_state=42)\n",
    "    km.fit_predict(X)\n",
    "    score = silhouette_score(X, km.labels_, metric='euclidean')\n",
    "    print('Número de clusters ',i,'Silhouette Score: %.3f' % score)\n",
    "    silhouette_coefficients.append(score)"
   ]
  },
  {
   "cell_type": "code",
   "execution_count": 25,
   "id": "60cba44e",
   "metadata": {
    "scrolled": true
   },
   "outputs": [
    {
     "data": {
      "text/plain": [
       "<function matplotlib.pyplot.show(close=None, block=None)>"
      ]
     },
     "execution_count": 25,
     "metadata": {},
     "output_type": "execute_result"
    },
    {
     "data": {
      "image/png": "[encoded data removed]",
      "text/plain": [
       "<Figure size 432x288 with 1 Axes>"
      ]
     },
     "metadata": {},
     "output_type": "display_data"
    }
   ],
   "source": [
    "import matplotlib.pyplot as plt\n",
    "plt.style.use(\"fivethirtyeight\")\n",
    "plt.plot(range(2,11), silhouette_coefficients)\n",
    "plt.xticks(range(2,11))\n",
    "plt.xlabel(\"Number of Clusters\")\n",
    "plt.ylabel(\"Silhouette Coefficient\")\n",
    "plt.show"
   ]
  },
  {
   "cell_type": "code",
   "execution_count": null,
   "id": "f75e6311",
   "metadata": {},
   "outputs": [],
   "source": []
  }
 ],
 "metadata": {
  "kernelspec": {
   "display_name": "Python 3",
   "language": "python",
   "name": "python3"
  },
  "language_info": {
   "codemirror_mode": {
    "name": "ipython",
    "version": 3
   },
   "file_extension": ".py",
   "mimetype": "text/x-python",
   "name": "python",
   "nbconvert_exporter": "python",
   "pygments_lexer": "ipython3",
   "version": "3.8.8"
  }
 },
 "nbformat": 4,
 "nbformat_minor": 5
}
